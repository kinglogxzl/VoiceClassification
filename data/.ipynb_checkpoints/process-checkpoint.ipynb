{
 "cells": [
  {
   "cell_type": "code",
   "execution_count": 22,
   "metadata": {},
   "outputs": [],
   "source": [
    "import codecs\n",
    "import numpy as np\n",
    "import pandas as pd\n",
    "\n",
    "per_path = \"个人菜单.txt\"\n",
    "ent_path = \"企业菜单.txt\"\n",
    "\n",
    "def getlist(path):\n",
    "    data = codecs.open(path, encoding=\"utf-8\").readlines()\n",
    "    result = []\n",
    "    for line in data:\n",
    "        line = line.strip()\n",
    "        result.append(line)\n",
    "    return result\n",
    "\n",
    "\n",
    "def edit_distance(word1, word2):\n",
    "    len1 = len(word1)\n",
    "    len2 = len(word2)\n",
    "    dp = np.zeros((len1 + 1, len2 + 1))\n",
    "    for i in range(len1 + 1):\n",
    "        dp[i][0] = i\n",
    "    for j in range(len2 + 1):\n",
    "        dp[0][j] = j\n",
    "\n",
    "    for i in range(1, len1 + 1):\n",
    "        for j in range(1, len2 + 1):\n",
    "            delta = 0 if word1[i - 1] == word2[j - 1] else 1\n",
    "            dp[i][j] = min(dp[i - 1][j - 1] + delta, min(dp[i - 1][j] + 1, dp[i][j - 1] + 1))\n",
    "    return dp[len1][len2] / len(word1)\n",
    "\n",
    "\n",
    "def calc_distance(data):\n",
    "    # 计算归一化编辑距离\n",
    "    result = np.zeros((len(data), len(data)))\n",
    "    for i in range(len(data)):\n",
    "        for j in range(len(data)):\n",
    "            result[i][j] = edit_distance(data[i], data[j])\n",
    "    result = pd.DataFrame(result)\n",
    "    result.index = data\n",
    "    result.columns = data\n",
    "    return result"
   ]
  },
  {
   "cell_type": "code",
   "execution_count": 23,
   "metadata": {},
   "outputs": [],
   "source": [
    "per_list = getlist(per_path)\n",
    "per_corr = calc_distance(per_list)"
   ]
  },
  {
   "cell_type": "code",
   "execution_count": 32,
   "metadata": {},
   "outputs": [],
   "source": [
    "hang = per_corr.iloc[0].sort_values(ascending=True) "
   ]
  },
  {
   "cell_type": "code",
   "execution_count": 35,
   "metadata": {},
   "outputs": [
    {
     "data": {
      "text/plain": [
       "账户管理    0.00\n",
       "商户管理    0.25\n",
       "Name: 账户管理, dtype: float64"
      ]
     },
     "execution_count": 35,
     "metadata": {},
     "output_type": "execute_result"
    }
   ],
   "source": [
    "hang[hang.values<=0.25]"
   ]
  },
  {
   "cell_type": "code",
   "execution_count": 81,
   "metadata": {},
   "outputs": [],
   "source": [
    "def output_similarity(data, pth, th=0.25):\n",
    "    f = codecs.open(pth, \"w\", encoding=\"utf-8\")\n",
    "    for i in range(len(data.index)):\n",
    "        line = data.iloc[i]\n",
    "        line = line.sort_values(ascending=True)\n",
    "        line = line[line.values<=th]\n",
    "        content = data.index[i] + ' 相似阈值:' + str(th) + ' 相似个数:' + str(len(line)-1)  + '\\n'\n",
    "        if (len(line)==1):\n",
    "            continue\n",
    "        #line = line.to_string().split('\\n')[1:]\n",
    "        line = line.to_string().split('\\n')\n",
    "        content += \" \".join([\"%s\" % (k) for k in line]) + \"\\n\\n\"\n",
    "        f.write(content)"
   ]
  },
  {
   "cell_type": "code",
   "execution_count": 82,
   "metadata": {},
   "outputs": [],
   "source": [
    "output_similarity(per_corr, \"per_corr.txt\")"
   ]
  },
  {
   "cell_type": "code",
   "execution_count": 84,
   "metadata": {},
   "outputs": [],
   "source": [
    "ent_list = getlist(ent_path)\n",
    "ent_corr = calc_distance(ent_list)\n",
    "output_similarity(ent_corr, \"ent_corr.txt\")"
   ]
  },
  {
   "cell_type": "code",
   "execution_count": null,
   "metadata": {},
   "outputs": [],
   "source": []
  }
 ],
 "metadata": {
  "kernelspec": {
   "display_name": "Python 3",
   "language": "python",
   "name": "python3"
  },
  "language_info": {
   "codemirror_mode": {
    "name": "ipython",
    "version": 3
   },
   "file_extension": ".py",
   "mimetype": "text/x-python",
   "name": "python",
   "nbconvert_exporter": "python",
   "pygments_lexer": "ipython3",
   "version": "3.7.4"
  }
 },
 "nbformat": 4,
 "nbformat_minor": 2
}
